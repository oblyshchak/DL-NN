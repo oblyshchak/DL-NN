{
 "cells": [
  {
   "cell_type": "code",
   "execution_count": 1,
   "id": "301e41c1-4987-4be2-ba51-645f5d84c490",
   "metadata": {},
   "outputs": [],
   "source": [
    "import gzip"
   ]
  },
  {
   "cell_type": "code",
   "execution_count": 8,
   "id": "ffc219ce-0302-419e-975b-4ffc256892a5",
   "metadata": {},
   "outputs": [],
   "source": [
    "#pdf"
   ]
  },
  {
   "cell_type": "code",
   "execution_count": 4,
   "id": "baa7c741-0fca-4048-af86-21f0a61c9c4a",
   "metadata": {},
   "outputs": [
    {
     "name": "stdout",
     "output_type": "stream",
     "text": [
      "12639268\n",
      "9497983\n"
     ]
    }
   ],
   "source": [
    "with open('data_a.pdf', 'rb') as file:\n",
    "    file_content = file.read()\n",
    "    print(len(file_content))\n",
    "    compress_data = gzip.compress(file_content)\n",
    "    print(len(compress_data))"
   ]
  },
  {
   "cell_type": "code",
   "execution_count": 7,
   "id": "cd5ecc2f-e54f-4b03-85e5-b7a795ad75b8",
   "metadata": {},
   "outputs": [],
   "source": [
    "with open('compress.pdf.gz', 'wb') as f:\n",
    "    f.write(compress_data)"
   ]
  },
  {
   "cell_type": "code",
   "execution_count": 13,
   "id": "709be6dd-84c5-4e32-b7d7-9b1cdab4cfe8",
   "metadata": {},
   "outputs": [],
   "source": [
    "#txt"
   ]
  },
  {
   "cell_type": "code",
   "execution_count": 11,
   "id": "110fba83-f982-484d-952e-941bcae13282",
   "metadata": {},
   "outputs": [
    {
     "name": "stdout",
     "output_type": "stream",
     "text": [
      "1953591\n",
      "684659\n"
     ]
    }
   ],
   "source": [
    "with open('history.txt', 'rb') as file:\n",
    "    file_content = file.read()\n",
    "    print(len(file_content))\n",
    "    compress_data = gzip.compress(file_content)\n",
    "    print(len(compress_data))"
   ]
  },
  {
   "cell_type": "code",
   "execution_count": 12,
   "id": "dec7897c-50e3-4e72-9fff-a95f2c49bda8",
   "metadata": {},
   "outputs": [],
   "source": [
    "with open('compress_history.pdf.gz', 'wb') as f:\n",
    "    f.write(compress_data)"
   ]
  }
 ],
 "metadata": {
  "kernelspec": {
   "display_name": "Python 3 (ipykernel)",
   "language": "python",
   "name": "python3"
  },
  "language_info": {
   "codemirror_mode": {
    "name": "ipython",
    "version": 3
   },
   "file_extension": ".py",
   "mimetype": "text/x-python",
   "name": "python",
   "nbconvert_exporter": "python",
   "pygments_lexer": "ipython3",
   "version": "3.11.1"
  }
 },
 "nbformat": 4,
 "nbformat_minor": 5
}
